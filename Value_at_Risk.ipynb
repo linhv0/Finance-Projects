{
  "nbformat": 4,
  "nbformat_minor": 0,
  "metadata": {
    "colab": {
      "provenance": [],
      "include_colab_link": true
    },
    "kernelspec": {
      "name": "python3",
      "display_name": "Python 3"
    },
    "language_info": {
      "name": "python"
    }
  },
  "cells": [
    {
      "cell_type": "markdown",
      "metadata": {
        "id": "view-in-github",
        "colab_type": "text"
      },
      "source": [
        "<a href=\"https://colab.research.google.com/github/linhv0/Finance-Projects/blob/main/Value_at_Risk.ipynb\" target=\"_parent\"><img src=\"https://colab.research.google.com/assets/colab-badge.svg\" alt=\"Open In Colab\"/></a>"
      ]
    },
    {
      "cell_type": "markdown",
      "source": [
        "# Value at Risk\n",
        "- the potential amount of money that can be lost on a portfolio over a given period of time with a given level of confidence\n",
        "- involves 3 components:\n",
        "1. Define holding period - the time frame for risk to be assessed\n",
        "2. Define level of confidence\n",
        "3. Calculate the maxium loss\n",
        "\n",
        "## Practical uses of VaR\n",
        "- provides management with a clear and quantifiable measure of risk exposure associated with trading and investment operations\n",
        "- establish limits on the size of positions can be taken on and resouces allocation\n",
        "- evaluate the performance of trading and investement operations.\n",
        "\n",
        "## Advantages of VaR\n",
        "- standardized measure to quantify risk across different assets\n",
        "- associates potential losses to probability which helps investors understand the likelihood of experiencing losses\n",
        "- can be applied to all traded assets\n",
        "- performance assessment"
      ],
      "metadata": {
        "id": "wulTv-XStqEF"
      }
    },
    {
      "cell_type": "markdown",
      "source": [
        "# Three ways to implement VaR for a portfolio\n",
        "1. Historical Approach\n",
        "2. Monte Carlo Simulation Approach\n",
        "3. Covariance Approach\n"
      ],
      "metadata": {
        "id": "oG191VU0uDi7"
      }
    },
    {
      "cell_type": "code",
      "execution_count": 1,
      "metadata": {
        "id": "Ki7WEsd2X-WM"
      },
      "outputs": [],
      "source": [
        "import numpy as np\n",
        "import pandas as pd\n",
        "import datetime as dt\n",
        "import yfinance as yf\n",
        "import matplotlib.pyplot as plt\n",
        "from scipy.stats import norm\n"
      ]
    },
    {
      "cell_type": "code",
      "source": [
        "#set a start date and end date\n",
        "years = 15\n",
        "end_date = dt.datetime.now()\n",
        "start_date = end_date - dt.timedelta(days = 365*years)"
      ],
      "metadata": {
        "id": "4XshZq01YJJW"
      },
      "execution_count": 2,
      "outputs": []
    },
    {
      "cell_type": "code",
      "source": [
        "#create a list of tickers\n",
        "tickers = ['SPY', 'XOM', 'JNJ', 'GOLD', 'VTI']"
      ],
      "metadata": {
        "id": "n9qKiVgQYeJw"
      },
      "execution_count": 3,
      "outputs": []
    },
    {
      "cell_type": "code",
      "source": [
        "adj_close_df = pd.DataFrame()\n",
        "\n",
        "for ticker in tickers:\n",
        "  data = yf.download(ticker, start=start_date, end=end_date)\n",
        "  adj_close_df[ticker] = data['Adj Close'] #using adjusted closed prices instead of the normal closed price\n",
        "                                          #becasue they account for dividends and stock splits. Therefore, it will be more accurate\n",
        "\n"
      ],
      "metadata": {
        "colab": {
          "base_uri": "https://localhost:8080/"
        },
        "id": "OHjl6cTBYoZz",
        "outputId": "94f90e9d-1033-4469-f90a-a36cfd40ba0a",
        "collapsed": true
      },
      "execution_count": 4,
      "outputs": [
        {
          "output_type": "stream",
          "name": "stderr",
          "text": [
            "[*********************100%***********************]  1 of 1 completed\n",
            "[*********************100%***********************]  1 of 1 completed\n",
            "[*********************100%***********************]  1 of 1 completed\n",
            "[*********************100%***********************]  1 of 1 completed\n",
            "[*********************100%***********************]  1 of 1 completed\n"
          ]
        }
      ]
    },
    {
      "cell_type": "code",
      "source": [
        "print(adj_close_df)"
      ],
      "metadata": {
        "colab": {
          "base_uri": "https://localhost:8080/"
        },
        "id": "MN7rRRDXZQRm",
        "outputId": "b0a79247-665b-45a7-c8c7-6a8551f47e7a"
      },
      "execution_count": 5,
      "outputs": [
        {
          "output_type": "stream",
          "name": "stdout",
          "text": [
            "                   SPY         XOM         JNJ       GOLD         VTI\n",
            "Date                                                                 \n",
            "2010-01-04   86.026443   39.594807   41.655678  31.370544   43.747643\n",
            "2010-01-05   86.254173   39.749413   41.172672  31.758884   43.915573\n",
            "2010-01-06   86.314919   40.092972   41.507557  32.434605   43.976639\n",
            "2010-01-07   86.679276   39.967007   41.211304  31.976353   44.159836\n",
            "2010-01-08   86.967728   39.806675   41.352978  32.178291   44.304882\n",
            "...                ...         ...         ...        ...         ...\n",
            "2024-12-20  591.150024  105.870003  144.470001  15.460000  292.339020\n",
            "2024-12-23  594.690002  106.300003  145.270004  15.590000  294.000000\n",
            "2024-12-24  601.299988  106.400002  145.850006  15.710000  297.119995\n",
            "2024-12-26  601.340027  106.489998  145.580002  15.740000  297.290009\n",
            "2024-12-27  595.010010  106.480003  145.050003  15.680000  294.070007\n",
            "\n",
            "[3772 rows x 5 columns]\n"
          ]
        }
      ]
    },
    {
      "cell_type": "markdown",
      "source": [
        "# Calculate the Daily Log Returns and Drop N/As"
      ],
      "metadata": {
        "id": "kmaKBWEEZkBg"
      }
    },
    {
      "cell_type": "markdown",
      "source": [
        "*Calculate log returns because they are additive overtime and better at handelling compounding.*\n",
        "\n",
        "![image.png](data:image/png;base64,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)"
      ],
      "metadata": {
        "id": "sHhV8JdsZxp4"
      }
    },
    {
      "cell_type": "code",
      "source": [
        "log_returns = np.log(adj_close_df/adj_close_df.shift(1)).dropna()\n",
        "print(log_returns)"
      ],
      "metadata": {
        "colab": {
          "base_uri": "https://localhost:8080/"
        },
        "id": "6LJpI5S-aKZ6",
        "outputId": "fe22ec5a-87af-46aa-fdc9-18eb26162059"
      },
      "execution_count": 6,
      "outputs": [
        {
          "output_type": "stream",
          "name": "stdout",
          "text": [
            "                 SPY       XOM       JNJ      GOLD       VTI\n",
            "Date                                                        \n",
            "2010-01-05  0.002644  0.003897 -0.011663  0.012303  0.003831\n",
            "2010-01-06  0.000704  0.008606  0.008101  0.021053  0.001390\n",
            "2010-01-07  0.004212 -0.003147 -0.007163 -0.014229  0.004157\n",
            "2010-01-08  0.003322 -0.004020  0.003432  0.006295  0.003279\n",
            "2010-01-11  0.001395  0.011157  0.000156  0.005056  0.001377\n",
            "...              ...       ...       ...       ...       ...\n",
            "2024-12-20  0.011939  0.003406  0.006179  0.014989  0.011316\n",
            "2024-12-23  0.005970  0.004053  0.005522  0.008374  0.005666\n",
            "2024-12-24  0.011054  0.000940  0.003985  0.007668  0.010556\n",
            "2024-12-26  0.000067  0.000845 -0.001853  0.001908  0.000572\n",
            "2024-12-27 -0.010582 -0.000094 -0.003647 -0.003819 -0.010890\n",
            "\n",
            "[3771 rows x 5 columns]\n"
          ]
        }
      ]
    },
    {
      "cell_type": "markdown",
      "source": [
        "#Create an equally weighted portfolio"
      ],
      "metadata": {
        "id": "DplEPT-YcSxh"
      }
    },
    {
      "cell_type": "code",
      "source": [
        "portfolio = 500000\n",
        "weights = np.array([1/len(tickers)] * 5)\n",
        "print(weights)"
      ],
      "metadata": {
        "colab": {
          "base_uri": "https://localhost:8080/"
        },
        "id": "1gtXAsOcabic",
        "outputId": "22b29564-410e-4623-84a9-b86fe359d3c3"
      },
      "execution_count": 7,
      "outputs": [
        {
          "output_type": "stream",
          "name": "stdout",
          "text": [
            "[0.2 0.2 0.2 0.2 0.2]\n"
          ]
        }
      ]
    },
    {
      "cell_type": "markdown",
      "source": [
        "# Calculate the historical portfolio returns"
      ],
      "metadata": {
        "id": "PVr9PrqldM8I"
      }
    },
    {
      "cell_type": "code",
      "source": [
        "historical_ret = (log_returns * weights).sum(axis=1) #calculate weighted average across 5 securities\n",
        "print(historical_ret)"
      ],
      "metadata": {
        "colab": {
          "base_uri": "https://localhost:8080/"
        },
        "id": "DkS9geB1crwB",
        "outputId": "8e4290ac-2e23-4207-d6c5-597a4c7a0de1"
      },
      "execution_count": 8,
      "outputs": [
        {
          "output_type": "stream",
          "name": "stdout",
          "text": [
            "Date\n",
            "2010-01-05    0.002202\n",
            "2010-01-06    0.007971\n",
            "2010-01-07   -0.003234\n",
            "2010-01-08    0.002462\n",
            "2010-01-11    0.003828\n",
            "                ...   \n",
            "2024-12-20    0.009566\n",
            "2024-12-23    0.005917\n",
            "2024-12-24    0.006841\n",
            "2024-12-26    0.000308\n",
            "2024-12-27   -0.005807\n",
            "Length: 3771, dtype: float64\n"
          ]
        }
      ]
    },
    {
      "cell_type": "code",
      "source": [
        "days = 5 #holding period - the time frame for risk to be assessed\n",
        "historical_5_day_ret = historical_ret.rolling(window=days).sum().dropna() #summing up 5 day returns\n",
        "print(historical_5_day_ret)"
      ],
      "metadata": {
        "id": "Dq2wc_mCdFcI",
        "colab": {
          "base_uri": "https://localhost:8080/"
        },
        "outputId": "32a7611f-a218-4de2-d028-15417d6ffe12"
      },
      "execution_count": 9,
      "outputs": [
        {
          "output_type": "stream",
          "name": "stdout",
          "text": [
            "Date\n",
            "2010-01-11    0.013230\n",
            "2010-01-12    0.000594\n",
            "2010-01-13   -0.001387\n",
            "2010-01-14    0.002027\n",
            "2010-01-15   -0.012126\n",
            "                ...   \n",
            "2024-12-20   -0.036699\n",
            "2024-12-23   -0.019116\n",
            "2024-12-24   -0.011786\n",
            "2024-12-26    0.015303\n",
            "2024-12-27    0.016825\n",
            "Length: 3767, dtype: float64\n"
          ]
        }
      ]
    },
    {
      "cell_type": "markdown",
      "source": [
        "# **COVARIANCE APPROACH**\n",
        "- *assumes the returns of all assets are ***normally distributed***. Keep in mind, this can be a disadvantage of this implemetation as returns often exhibit fat tails, which leads to underestimation of risk.*"
      ],
      "metadata": {
        "id": "z9hkKeXg8i-l"
      }
    },
    {
      "cell_type": "markdown",
      "source": [
        "## Calculate covariance matrix"
      ],
      "metadata": {
        "id": "yjaPpXW1wOWy"
      }
    },
    {
      "cell_type": "code",
      "source": [
        "cov_matrix = log_returns.cov() * 252\n",
        "print('Covariance Matrix:')\n",
        "print(cov_matrix)"
      ],
      "metadata": {
        "colab": {
          "base_uri": "https://localhost:8080/"
        },
        "id": "puq3gtvwd2fG",
        "outputId": "a6648958-1af1-49dd-8994-afe75553a530"
      },
      "execution_count": 10,
      "outputs": [
        {
          "output_type": "stream",
          "name": "stdout",
          "text": [
            "Covariance Matrix:\n",
            "           SPY       XOM       JNJ      GOLD       VTI\n",
            "SPY   0.029248  0.025769  0.016296  0.011534  0.029864\n",
            "XOM   0.025769  0.062348  0.015647  0.015644  0.026345\n",
            "JNJ   0.016296  0.015647  0.027951  0.005390  0.016177\n",
            "GOLD  0.011534  0.015644  0.005390  0.149833  0.012041\n",
            "VTI   0.029864  0.026345  0.016177  0.012041  0.030739\n"
          ]
        }
      ]
    },
    {
      "cell_type": "markdown",
      "source": [
        "## Calculate portfolio standard deviation"
      ],
      "metadata": {
        "id": "lBf2I9r6hztc"
      }
    },
    {
      "cell_type": "markdown",
      "source": [
        "![image.png](data:image/png;base64,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)"
      ],
      "metadata": {
        "id": "j80_LmJah9F-"
      }
    },
    {
      "cell_type": "code",
      "source": [
        "portfolio_variance = np.dot(weights.T, np.dot(cov_matrix, weights))\n",
        "portfolio_std= np.sqrt(portfolio_variance)\n",
        "print(portfolio_std)"
      ],
      "metadata": {
        "colab": {
          "base_uri": "https://localhost:8080/"
        },
        "id": "tawTwjF6eD1W",
        "outputId": "69ef5a33-74c6-4e5e-b539-61fd7322f7b8"
      },
      "execution_count": 11,
      "outputs": [
        {
          "output_type": "stream",
          "name": "stdout",
          "text": [
            "0.1611872254925523\n"
          ]
        }
      ]
    },
    {
      "cell_type": "code",
      "source": [
        "#set confidence level\n",
        "confidence_levels = [0.9, 0.95, 0.99]"
      ],
      "metadata": {
        "id": "-hV1rwr5eb9-"
      },
      "execution_count": 12,
      "outputs": []
    },
    {
      "cell_type": "markdown",
      "source": [
        "## Calculate VaR at different confidence levels\n",
        "![image.png](data:image/png;base64,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)"
      ],
      "metadata": {
        "id": "s-wv5TIlkYFn"
      }
    },
    {
      "cell_type": "code",
      "source": [
        "from scipy.stats import norm\n",
        "\n",
        "VaRs = []\n",
        "\n",
        "for cl in confidence_levels:\n",
        "  z_score = norm.ppf(1-cl) #z_score of potential loss\n",
        "  volatility_5day_period = portfolio_std * np.sqrt(days/252)\n",
        "  VaR = portfolio * volatility_5day_period *  z_score\n",
        "  VaRs.append(VaR)\n"
      ],
      "metadata": {
        "id": "45WmP8TFhwnk"
      },
      "execution_count": 13,
      "outputs": []
    },
    {
      "cell_type": "code",
      "source": [
        "print(VaRs)"
      ],
      "metadata": {
        "colab": {
          "base_uri": "https://localhost:8080/"
        },
        "id": "PsSkQYftkCUM",
        "outputId": "7b00027f-1d05-49a9-8e80-4a642514a0f4"
      },
      "execution_count": 14,
      "outputs": [
        {
          "output_type": "stream",
          "name": "stdout",
          "text": [
            "[-14548.607971072599, -18672.936174943985, -26409.489975829223]\n"
          ]
        }
      ]
    },
    {
      "cell_type": "code",
      "source": [
        "df = pd.DataFrame({'Confidence Level': confidence_levels,'Value at Risk': VaRs})\n",
        "df['Value at Risk'] = df['Value at Risk'].apply(lambda x: '${:,.2f}'.format(x))\n",
        "df['Confidence Level'] = df['Confidence Level'].apply(lambda x: '{:.0%}'.format(x))\n",
        "print(df)"
      ],
      "metadata": {
        "colab": {
          "base_uri": "https://localhost:8080/"
        },
        "id": "BEj-XCYemJMn",
        "outputId": "eb9bd7c3-4b0f-4c58-bdff-221b047c718d"
      },
      "execution_count": 15,
      "outputs": [
        {
          "output_type": "stream",
          "name": "stdout",
          "text": [
            "  Confidence Level Value at Risk\n",
            "0              90%   $-14,548.61\n",
            "1              95%   $-18,672.94\n",
            "2              99%   $-26,409.49\n"
          ]
        }
      ]
    },
    {
      "cell_type": "markdown",
      "source": [
        "With 99% confidence interval and a portfolio of 500,000 dollars, you would expect to lose no more than 26,409 dollars"
      ],
      "metadata": {
        "id": "XBxrF4wbsNYR"
      }
    },
    {
      "cell_type": "code",
      "source": [
        "# Amount of returns in dollar values\n",
        "historical_5_day_ret_dollars = historical_5_day_ret * portfolio\n",
        "print(historical_5_day_ret_dollars)"
      ],
      "metadata": {
        "colab": {
          "base_uri": "https://localhost:8080/"
        },
        "collapsed": true,
        "id": "4OM7RU9w1dq2",
        "outputId": "a76f29b1-170b-4cab-a048-ad3c9fd5c37a"
      },
      "execution_count": 16,
      "outputs": [
        {
          "output_type": "stream",
          "name": "stdout",
          "text": [
            "Date\n",
            "2010-01-11     6614.798419\n",
            "2010-01-12      296.768611\n",
            "2010-01-13     -693.412816\n",
            "2010-01-14     1013.250657\n",
            "2010-01-15    -6063.033804\n",
            "                  ...     \n",
            "2024-12-20   -18349.297563\n",
            "2024-12-23    -9558.104627\n",
            "2024-12-24    -5892.925151\n",
            "2024-12-26     7651.541955\n",
            "2024-12-27     8412.395345\n",
            "Length: 3767, dtype: float64\n"
          ]
        }
      ]
    },
    {
      "cell_type": "markdown",
      "source": [
        "## Visualizations"
      ],
      "metadata": {
        "id": "iFoErhEP1l2n"
      }
    },
    {
      "cell_type": "code",
      "source": [
        "\n",
        "# Plot the histogram\n",
        "plt.hist(historical_5_day_ret_dollars, bins=90, density=True, label='5-Day Returns')\n",
        "\n",
        "#Add title and x,y labels\n",
        "plt.xlabel('Return')\n",
        "plt.ylabel('Frequency')\n",
        "plt.title('Distribution of 5-Day Portfolio Returns')\n",
        "\n",
        "# Add vertical lines representing VaR at each confidence level\n",
        "for cl, var in zip(confidence_levels, VaRs):\n",
        "  plt.axvline(x=var, color='r', linestyle='--', label=f'{cl*100}% Confidence Level')\n",
        "plt.legend()\n",
        "plt.show()\n"
      ],
      "metadata": {
        "id": "7294TWGtmisr",
        "colab": {
          "base_uri": "https://localhost:8080/",
          "height": 472
        },
        "outputId": "b333b2c4-f8d8-4d42-95d2-bedce5a34749"
      },
      "execution_count": 17,
      "outputs": [
        {
          "output_type": "display_data",
          "data": {
            "text/plain": [
              "<Figure size 640x480 with 1 Axes>"
            ],
            "image/png": "[encoded data removed]"
          },
          "metadata": {}
        }
      ]
    },
    {
      "cell_type": "markdown",
      "source": [
        "# **HISTORICAL APPROACH**\n",
        "*This approach makes no assumption on return distribution. It utilizes historical asset prices to calculate the actual changes in the value of the portfolio over a sample period. It ranks these returns from the lowest to the highest. Then calculate VaR at a specific confidence interval by looking for the return on the (1-confidence interval)th percentile.*\n",
        "\n",
        "- Advantages: straightforward, no complex stat modelling and no distribution assumption.\n",
        "- Disadvatages: requires a lot of historical data and is very sensitive to the time period used for estimation."
      ],
      "metadata": {
        "id": "NhY0lCTe7blz"
      }
    },
    {
      "cell_type": "markdown",
      "source": [
        "## Specify confidence interval and calculate VaR"
      ],
      "metadata": {
        "id": "B5ur3cWP81Jd"
      }
    },
    {
      "cell_type": "code",
      "source": [
        "confidence_interval = [0.9, 0.95, 0.99]\n",
        "\n",
        "for cl in confidence_interval:\n",
        "  alpha = 1 - cl\n",
        "  VaR = np.percentile(historical_5_day_ret, alpha * 100) * portfolio\n",
        "  print(f'In a 5-day period at a {cl*100:.0f}% level confidence, the maximum amount of money that will be lost is: {-VaR:,.0f} dollars')"
      ],
      "metadata": {
        "id": "VAF45QWO40_B",
        "outputId": "5840d79f-a6c0-4b14-c980-b9a7083345a4",
        "colab": {
          "base_uri": "https://localhost:8080/"
        }
      },
      "execution_count": 18,
      "outputs": [
        {
          "output_type": "stream",
          "name": "stdout",
          "text": [
            "In a 5-day period at a 90% level confidence, the maximum amount of money that will be lost is: 11,519 dollars\n",
            "In a 5-day period at a 95% level confidence, the maximum amount of money that will be lost is: 16,535 dollars\n",
            "In a 5-day period at a 99% level confidence, the maximum amount of money that will be lost is: 32,177 dollars\n"
          ]
        }
      ]
    }
  ]
}